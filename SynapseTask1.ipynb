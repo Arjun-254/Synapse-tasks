{
  "cells": [
    {
      "cell_type": "markdown",
      "metadata": {
        "id": "view-in-github",
        "colab_type": "text"
      },
      "source": [
        "<a href=\"https://colab.research.google.com/github/Arjun-254/Synapse-tasks/blob/main/SynapseTask1.ipynb\" target=\"_parent\"><img src=\"https://colab.research.google.com/assets/colab-badge.svg\" alt=\"Open In Colab\"/></a>"
      ]
    },
    {
      "cell_type": "markdown",
      "source": [
        "***TASK 1.1***"
      ],
      "metadata": {
        "id": "d5ExTIeP1-Qg"
      }
    },
    {
      "cell_type": "code",
      "execution_count": null,
      "metadata": {
        "colab": {
          "base_uri": "https://localhost:8080/"
        },
        "id": "5MQ29Jv3fKfF",
        "outputId": "75c211b5-a6e0-48b5-fadb-b0f428f9d423"
      },
      "outputs": [
        {
          "output_type": "stream",
          "name": "stdout",
          "text": [
            "[0, 1, 2, 3, 4]\n"
          ]
        }
      ],
      "source": [
        "import numpy as np\n",
        "\n",
        "modern_family = ['CLaiRe_DunPhY', 'PHiL_dUnpHY', 'GLoRiA_PriTCheTt', 'CaMErOn_TuCKEr', 'StELLa']\n",
        "cs = ['CLaiRe_DunPhY', 'PHiL_dUnpHY', 'GLoRiA_PriTCheTt', 'CaMErOn_TuCKEr', 'StELLa']\n",
        "indices=[]\n",
        "for i, item in enumerate(cs):\n",
        "        indices.append(i)\n",
        "\n",
        "print(list(indices))"
      ]
    },
    {
      "cell_type": "code",
      "execution_count": null,
      "metadata": {
        "colab": {
          "base_uri": "https://localhost:8080/"
        },
        "id": "1FOXKv0hZ_UI",
        "outputId": "68c8fbde-54d5-4cfb-a0c7-6c98d178a056"
      },
      "outputs": [
        {
          "name": "stdout",
          "output_type": "stream",
          "text": [
            "['claire_dunphy' 'phil_dunphy' 'gloria_pritchett' 'cameron_tucker'\n",
            " 'stella']\n"
          ]
        }
      ],
      "source": [
        "#or \n",
        "#for i in range(len(cs)):\n",
        "#   cs[i]=cs[i].lower\n",
        "cs=np.char.lower(cs)\n",
        "print(cs)\n"
      ]
    },
    {
      "cell_type": "code",
      "execution_count": null,
      "metadata": {
        "colab": {
          "base_uri": "https://localhost:8080/"
        },
        "id": "FF3T8KPMaE3N",
        "outputId": "d9d6d253-5de1-4777-b6bf-9965c6a6893b"
      },
      "outputs": [
        {
          "name": "stdout",
          "output_type": "stream",
          "text": [
            "['claire-dunphy' 'phil-dunphy' 'gloria-pritchett' 'cameron-tucker'\n",
            " 'stella']\n"
          ]
        }
      ],
      "source": [
        "for i in range(len(cs)):\n",
        "  cs[i]=cs[i].replace('_','-')\n",
        "\n",
        "print(cs)"
      ]
    },
    {
      "cell_type": "code",
      "execution_count": null,
      "metadata": {
        "colab": {
          "base_uri": "https://localhost:8080/"
        },
        "id": "RAHPfA8ToKqN",
        "outputId": "cc65e2eb-fb76-49d3-9144-270aacb2f6fe"
      },
      "outputs": [
        {
          "output_type": "stream",
          "name": "stdout",
          "text": [
            "[13, 11, 16, 14, 6]\n"
          ]
        }
      ],
      "source": [
        "temp=[]\n",
        "temp = map(lambda x:len(x),cs)\n",
        "\n",
        "print(list(temp))"
      ]
    },
    {
      "cell_type": "code",
      "source": [
        "temp1=[13, 11, 16, 14, 6]\n",
        "indices1=[0, 1, 2, 3, 4]\n",
        "indices=[sum(tup) for tup in zip(temp1,indices1)]\n",
        "print(indices)\n"
      ],
      "metadata": {
        "colab": {
          "base_uri": "https://localhost:8080/"
        },
        "id": "46wb33larJia",
        "outputId": "213eb4cb-fbcf-4859-9c22-e345129800d9"
      },
      "execution_count": null,
      "outputs": [
        {
          "output_type": "stream",
          "name": "stdout",
          "text": [
            "[13, 12, 18, 17, 10]\n"
          ]
        }
      ]
    },
    {
      "cell_type": "code",
      "source": [
        "indices.sort(reverse=True)\n",
        "print(indices)"
      ],
      "metadata": {
        "colab": {
          "base_uri": "https://localhost:8080/"
        },
        "id": "cCpXM57F0a4-",
        "outputId": "60d95d91-b301-4f72-d691-c57a4b577c63"
      },
      "execution_count": null,
      "outputs": [
        {
          "output_type": "stream",
          "name": "stdout",
          "text": [
            "[18, 17, 13, 12, 10]\n"
          ]
        }
      ]
    },
    {
      "cell_type": "code",
      "source": [
        "phew_finally={indices:characters for indices,\n",
        "              characters in zip(indices,characters)} \n",
        "print(phew_finally)"
      ],
      "metadata": {
        "colab": {
          "base_uri": "https://localhost:8080/"
        },
        "id": "HJHEMhJz0n8r",
        "outputId": "f7a3a5c7-bf1e-48f9-83ec-bb2f9aa2e5c0"
      },
      "execution_count": null,
      "outputs": [
        {
          "output_type": "stream",
          "name": "stdout",
          "text": [
            "{18: 'claire_dunphy', 17: 'phil_dunphy', 13: 'gloria_pritchett', 12: 'cameron_tucker', 10: 'stella'}\n"
          ]
        }
      ]
    },
    {
      "cell_type": "markdown",
      "source": [
        "***TASK 1.2***"
      ],
      "metadata": {
        "id": "JSliKgeR2FSx"
      }
    },
    {
      "cell_type": "code",
      "source": [
        "creepy_doll = ['red_light', 'green_light', 'red_light', 'you_got_shot', 'green_light', 'you_got_shot', 'you_got_shot', 'green_light', 'you_ got_shot', 'red_light', 'green_light', 'red_light', 'you_got_shot', 'green_light','red_light', 'red_light', 'green_light', 'you_got_shot','red_light', 'you_got_shot']\n",
        "\n",
        "next_game=[]\n",
        "for i in range(len(creepy_doll)):\n",
        "  if creepy_doll[i]=='green_light':\n",
        "    next_game.extend(creepy_doll[i:i+1])\n",
        "    #next_game.append(creepy_doll[i:i+1]) \n",
        "    #output=Next_Game is:  [['green_light'], ['green_light'], ['green_light'], ['green_light'], ['green_light'], ['green_light']]\n",
        "    #^ List of Lists\n",
        "   \n",
        "print(\"Next_Game is: \",next_game)\n",
        "\n"
      ],
      "metadata": {
        "colab": {
          "base_uri": "https://localhost:8080/"
        },
        "id": "Wl1pVaPjIVjh",
        "outputId": "d03dd88e-4404-4ede-d196-dad926caaccc"
      },
      "execution_count": null,
      "outputs": [
        {
          "output_type": "stream",
          "name": "stdout",
          "text": [
            "Next_Game is:  ['green_light', 'green_light', 'green_light', 'green_light', 'green_light', 'green_light']\n"
          ]
        }
      ]
    },
    {
      "cell_type": "code",
      "source": [
        "#IGNORE\n",
        "from functools import reduce\n",
        "import operator\n",
        "c=0\n",
        "x=0\n",
        "creepy_doll = ['red_light', 'green_light', 'red_light', 'you_got_shot', 'green_light', 'you_got_shot', 'you_got_shot', 'green_light', 'you_ got_shot', 'red_light', 'green_light', 'red_light', 'you_got_shot', 'green_light','red_light', 'red_light', 'green_light', 'you_got_shot','red_light', 'you_got_shot']\n",
        "\n",
        "next_game1=[]\n",
        "for i in range(len(creepy_doll)):\n",
        "  if creepy_doll[i]=='green_light':\n",
        "    next_game1.extend(creepy_doll[i:i+1])\n",
        "    next_game = reduce(operator.concat,next_game1)\n",
        "\n",
        "print(\"Next_Game is: \")\n",
        "for i in range(len(next_game)):\n",
        "  c=c+1\n",
        "  if c%11==0:\n",
        "    print(next_game[i+1:i+12])\n",
        "  \n"
      ],
      "metadata": {
        "colab": {
          "base_uri": "https://localhost:8080/"
        },
        "id": "0G1CU98-Kvj0",
        "outputId": "5e2d115c-b3ea-4feb-c7da-24e9afad5ea6"
      },
      "execution_count": null,
      "outputs": [
        {
          "output_type": "stream",
          "name": "stdout",
          "text": [
            "Next_Game is: \n",
            "green_light\n",
            "green_light\n",
            "green_light\n",
            "green_light\n",
            "green_light\n",
            "\n"
          ]
        }
      ]
    },
    {
      "cell_type": "markdown",
      "source": [
        "***TASK 1.3***"
      ],
      "metadata": {
        "id": "FdqKa9BwNk_r"
      }
    },
    {
      "cell_type": "code",
      "source": [
        "class Titandex:\n",
        "  \n",
        "  def __init__(self,n,h,s):\n",
        "    self.name=n\n",
        "    self.height=h\n",
        "    self.strength=s\n",
        "    self.win_streak=0\n",
        "    \n",
        "  def TitanvsScout(self):\n",
        "    ST=['Founding Titan','350','Attack Titan','275','Armored Titan','250','Colossal Titan','300','War Hammer Titan','235','Beast Titan','250','Cart Titan','175','Female Titan','270','Jaw Titan','225']\n",
        "    #SCT=['Levi','300','Mikasa','275','Eren','270','Armin','250','Erwin','275','Hange','230','Jean','230','Sasha','200','Connie','180']\n",
        "    print(\"Enter number of battle\" )\n",
        "    n=int(input())\n",
        "    print('Enter Name of Titan (as: Name Titan) ')\n",
        "    self.name=input()\n",
        "    for j in range(len(ST)):\n",
        "      if(ST[j]==self.name):\n",
        "        self.strength=int(ST[j+1])\n",
        "                            \n",
        "    for i in range(n):\n",
        "       print(\"Enter Name of Scout\" )\n",
        "       scout_n=input()\n",
        "       print(\"Enter Strength of Scout\" )\n",
        "       scout_s=int(input())\n",
        "       if self.strength>scout_s:\n",
        "         print(\"TITAN WINS\")\n",
        "         self.win_streak=self.win_streak+1\n",
        "         print(\"Win streak is:\",self.win_streak)\n",
        "       elif self.strength==scout_s:\n",
        "         print(\"DRAW\")\n",
        "         self.win_streak=0\n",
        "         print(\"Win streak is:\",self.win_streak)\n",
        "       else: \n",
        "         print(\"SCOUT WINS\")\n",
        "         self.win_streak=0\n",
        "         print(\"Win streak is:\",self.win_streak)\n",
        "  def TitanvsTitan(self):\n",
        "    ST=['Founding Titan','350','Attack Titan','275','Armored Titan','250','Colossal Titan','300','War Hammer Titan','235','Beast Titan','250','Cart Titan','175','Female Titan','270','Jaw Titan','225']\n",
        "    print(\"Enter number of battle\" )\n",
        "    n=int(input())\n",
        "    print('Enter Name of Titan1 (as: Name Titan) ')\n",
        "    self.name=input()\n",
        "    for j in range(len(ST)):\n",
        "      if(ST[j]==self.name):\n",
        "        self.strength=int(ST[j+1])\n",
        "    for i in range(n):\n",
        "       print(\"Enter Name of Titan2\" )\n",
        "       titan_n=input()\n",
        "       print(\"Enter Strength of Titan2\" )\n",
        "       titan_s=int(input())\n",
        "\n",
        "       if self.name==titan_n:\n",
        "         print('Invalid Input, Titan cannot fight itslef')\n",
        "       else:\n",
        "         if self.strength>titan_s:\n",
        "           print(\"TITAN1 WINS\")\n",
        "           self.win_streak=self.win_streak+1\n",
        "           print(\"Win streak is:\",self.win_streak)\n",
        "         elif self.strength==titan_s:\n",
        "           print(\"DRAW\")\n",
        "           self.win_streak=0\n",
        "           print(\"Win streak is:\",self.win_streak)\n",
        "         else: \n",
        "           print(\"TITAN2 WINS\")\n",
        "           self.win_streak=0\n",
        "           print(\"Win streak is:\",self.win_streak)\n",
        "\n",
        "\n",
        "titan=Titandex('Founding Titan',13,350) #value gets overwritten anyway\n",
        "titan.TitanvsScout()\n",
        "titan.TitanvsTitan()"
      ],
      "metadata": {
        "colab": {
          "base_uri": "https://localhost:8080/"
        },
        "id": "pWpalxh8NLHl",
        "outputId": "563a276f-dd94-4408-bf50-1aabf448f617"
      },
      "execution_count": null,
      "outputs": [
        {
          "output_type": "stream",
          "name": "stdout",
          "text": [
            "Enter number of battle\n",
            "2\n",
            "Enter Name of Titan (as: Name Titan) \n",
            "Attack Titan\n",
            "Enter Name of Scout\n",
            "Levi\n",
            "Enter Strength of Scout\n",
            "300\n",
            "SCOUT WINS\n",
            "Win streak is: 0\n",
            "Enter Name of Scout\n",
            "Eren\n",
            "Enter Strength of Scout\n",
            "270\n",
            "TITAN WINS\n",
            "Win streak is: 1\n",
            "Enter number of battle\n",
            "2\n",
            "Enter Name of Titan1 (as: Name Titan) \n",
            "Colossal Titan\n",
            "Enter Name of Titan2\n",
            "Founding Titan\n",
            "Enter Strength of Titan2\n",
            "350\n",
            "TITAN2 WINS\n",
            "Win streak is: 0\n",
            "Enter Name of Titan2\n",
            "Armored Titan\n",
            "Enter Strength of Titan2\n",
            "250\n",
            "TITAN1 WINS\n",
            "Win streak is: 1\n"
          ]
        }
      ]
    },
    {
      "cell_type": "code",
      "source": [],
      "metadata": {
        "id": "sATz-t7EnfOe"
      },
      "execution_count": null,
      "outputs": []
    }
  ],
  "metadata": {
    "colab": {
      "provenance": [],
      "collapsed_sections": [],
      "authorship_tag": "ABX9TyNk3+vwS7/uXP56/OquWcSA",
      "include_colab_link": true
    },
    "kernelspec": {
      "display_name": "Python 3",
      "name": "python3"
    },
    "language_info": {
      "name": "python"
    }
  },
  "nbformat": 4,
  "nbformat_minor": 0
}